{
 "cells": [
  {
   "cell_type": "code",
   "execution_count": 2,
   "id": "b79f5672-883c-4b69-9b37-25e7a04069ce",
   "metadata": {},
   "outputs": [],
   "source": [
    "# 01-Cutoffs.ipynb"
   ]
  },
  {
   "cell_type": "code",
   "execution_count": 3,
   "id": "c8b06ba6-5ddf-4ca3-9c01-102f89ee3d6c",
   "metadata": {},
   "outputs": [],
   "source": [
    "import pickle \n",
    "import pandas as pd "
   ]
  },
  {
   "cell_type": "code",
   "execution_count": 3,
   "id": "a91ac727-086f-4145-a24e-49f78222629d",
   "metadata": {},
   "outputs": [],
   "source": [
    "## NRCB1 \n",
    "\n",
    "# F115W - F212N \n",
    "F115W_F212N = { \n",
    "    \"F115W\": [[(6.25, 21.5), (7.25, 22.8)], \n",
    "                [(6.25, 21.2), (7.25, 22.5)]], \n",
    "    \"F212N\": [[(6.25, 15.25), (7.25, 15.625)], \n",
    "                [(6.25, 15.00), (7.25, 15.375)]]\n",
    "}   \n",
    "\n",
    "# F212N vs. F405N \n",
    "F212N_F405N = { \n",
    "    \"F212N\": [[(1.75, 15.25), (1.95, 15.625)], \n",
    "                [(1.75, 15.025), (1.95, 15.4)]], \n",
    "    \"F405N\": [[(1.75, 13.5), (1.9, 13.625)], \n",
    "                [(1.75, 13.375), (1.9, 13.5)]]\n",
    "} \n",
    "\n",
    "NRCB1_CUTOFFS = {\n",
    "    \"F115W_F212N\": F115W_F212N, \n",
    "    \"F212N_F405N\": F212N_F405N, \n",
    "}"
   ]
  },
  {
   "cell_type": "code",
   "execution_count": 4,
   "id": "1cbaf002-4217-41e0-9a20-6eeffaddc138",
   "metadata": {},
   "outputs": [],
   "source": [
    "with open(\"/Users/devaldeliwala/mulab/v1/assets/NRCB1_cutoffs.pkl\", \"wb\") as f: \n",
    "    pickle.dump(NRCB1_CUTOFFS, f)"
   ]
  },
  {
   "cell_type": "code",
   "execution_count": 4,
   "id": "b22e1b97-1ccd-4d38-8cf5-bbae15f84204",
   "metadata": {},
   "outputs": [],
   "source": [
    "# Overall cutoffs \n",
    "with open(\"/Users/devaldeliwala/mulab/v1/assets/red_clump_cuts.pkl\", \"rb\") as f: \n",
    "    red_clump_cuts = pickle.load(f)\n",
    "\n",
    "columns_to_drop = ['Unnamed: 0', 'Unnamed: 0.1', 'catalog1zp', 'catalog2zp']\n",
    "df = red_clump_cuts.loc[[0, 6, 12, 18]].drop(columns=columns_to_drop)\n",
    "\n",
    "with open(\"/Users/devaldeliwala/mulab/assets/red_clump_cuts.pkl\", \"wb\") as f: \n",
    "    pickle.dump(df, f)"
   ]
  },
  {
   "cell_type": "code",
   "execution_count": 20,
   "id": "49dddbdd-5940-4360-8aa3-d26d67947b9a",
   "metadata": {},
   "outputs": [],
   "source": [
    "# Preliminary F115W-F212N Cutoffs "
   ]
  },
  {
   "cell_type": "code",
   "execution_count": 21,
   "id": "2c193b38-b242-4700-ab03-4b52249ac382",
   "metadata": {},
   "outputs": [],
   "source": [
    "with open(\"/Users/devaldeliwala/mulab/assets/red_clump_cuts.pkl\", \"rb\") as f: \n",
    "    cuts = pickle.load(f)"
   ]
  },
  {
   "cell_type": "code",
   "execution_count": 38,
   "id": "c4cbab87-74c3-421d-ab55-1796aa79e580",
   "metadata": {},
   "outputs": [],
   "source": [
    "cuts.loc[18, 'parallel_cutoff1'] = '[(6.3, 21.0), (9, 24.9)]' \n",
    "cuts.loc[18, 'parallel_cutoff2'] = '[(6.3, 21.7), (9, 25.6)]'"
   ]
  },
  {
   "cell_type": "code",
   "execution_count": 39,
   "id": "bb26b77e-0338-4a65-959d-8bce4084fda7",
   "metadata": {},
   "outputs": [],
   "source": [
    "cuts.loc[6, 'parallel_cutoff1'] = '[(6.3, 21.0), (9, 24.9)]'\n",
    "cuts.loc[6, 'parallel_cutoff2'] = '[(6.3, 21.7), (9, 25.6)]'"
   ]
  },
  {
   "cell_type": "code",
   "execution_count": 44,
   "id": "fced9669-a308-4633-b21e-6d932d232be6",
   "metadata": {},
   "outputs": [],
   "source": [
    "with open(\"/Users/devaldeliwala/mulab/assets/red_clump_cuts.pkl\", \"wb\") as f: \n",
    "    pickle.dump(cuts, f)"
   ]
  },
  {
   "cell_type": "code",
   "execution_count": 43,
   "id": "f8dbefbd-45b3-4284-b20f-c573e55f5d3c",
   "metadata": {},
   "outputs": [
    {
     "data": {
      "text/html": [
       "<div>\n",
       "<style scoped>\n",
       "    .dataframe tbody tr th:only-of-type {\n",
       "        vertical-align: middle;\n",
       "    }\n",
       "\n",
       "    .dataframe tbody tr th {\n",
       "        vertical-align: top;\n",
       "    }\n",
       "\n",
       "    .dataframe thead th {\n",
       "        text-align: right;\n",
       "    }\n",
       "</style>\n",
       "<table border=\"1\" class=\"dataframe\">\n",
       "  <thead>\n",
       "    <tr style=\"text-align: right;\">\n",
       "      <th></th>\n",
       "      <th>region1</th>\n",
       "      <th>region2</th>\n",
       "      <th>regiony</th>\n",
       "      <th>catalog1</th>\n",
       "      <th>catalog2</th>\n",
       "      <th>catalogy</th>\n",
       "      <th>x_range</th>\n",
       "      <th>parallel_cutoff1</th>\n",
       "      <th>parallel_cutoff2</th>\n",
       "    </tr>\n",
       "  </thead>\n",
       "  <tbody>\n",
       "    <tr>\n",
       "      <th>0</th>\n",
       "      <td>NRCB1</td>\n",
       "      <td>NRCB1</td>\n",
       "      <td>NRCB1</td>\n",
       "      <td>F115W</td>\n",
       "      <td>F212N</td>\n",
       "      <td>F115W</td>\n",
       "      <td>[6.0, 8.25]</td>\n",
       "      <td>[(6, 21.3), (8, 24.1)]</td>\n",
       "      <td>[(6, 20.5), (8, 23.3)]</td>\n",
       "    </tr>\n",
       "    <tr>\n",
       "      <th>6</th>\n",
       "      <td>NRCB2</td>\n",
       "      <td>NRCB2</td>\n",
       "      <td>NRCB2</td>\n",
       "      <td>F115W</td>\n",
       "      <td>F212N</td>\n",
       "      <td>F115W</td>\n",
       "      <td>[6.0, 8.25]</td>\n",
       "      <td>[(6.3, 21.0), (9, 24.9)]</td>\n",
       "      <td>[(6.3, 21.7), (9, 25.6)]</td>\n",
       "    </tr>\n",
       "    <tr>\n",
       "      <th>12</th>\n",
       "      <td>NRCB3</td>\n",
       "      <td>NRCB3</td>\n",
       "      <td>NRCB3</td>\n",
       "      <td>F115W</td>\n",
       "      <td>F212N</td>\n",
       "      <td>F115W</td>\n",
       "      <td>[6.5, 8.5]</td>\n",
       "      <td>[(6, 21.3), (8, 24.1)]</td>\n",
       "      <td>[(6, 20.5), (8, 23.3)]</td>\n",
       "    </tr>\n",
       "    <tr>\n",
       "      <th>18</th>\n",
       "      <td>NRCB4</td>\n",
       "      <td>NRCB4</td>\n",
       "      <td>NRCB4</td>\n",
       "      <td>F115W</td>\n",
       "      <td>F212N</td>\n",
       "      <td>F115W</td>\n",
       "      <td>[6.5, 9.0]</td>\n",
       "      <td>[(6.3, 21.0), (9, 24.9)]</td>\n",
       "      <td>[(6.3, 21.7), (9, 25.6)]</td>\n",
       "    </tr>\n",
       "  </tbody>\n",
       "</table>\n",
       "</div>"
      ],
      "text/plain": [
       "   region1 region2 regiony catalog1 catalog2 catalogy      x_range  \\\n",
       "0    NRCB1   NRCB1   NRCB1    F115W    F212N    F115W  [6.0, 8.25]   \n",
       "6    NRCB2   NRCB2   NRCB2    F115W    F212N    F115W  [6.0, 8.25]   \n",
       "12   NRCB3   NRCB3   NRCB3    F115W    F212N    F115W   [6.5, 8.5]   \n",
       "18   NRCB4   NRCB4   NRCB4    F115W    F212N    F115W   [6.5, 9.0]   \n",
       "\n",
       "            parallel_cutoff1          parallel_cutoff2  \n",
       "0     [(6, 21.3), (8, 24.1)]    [(6, 20.5), (8, 23.3)]  \n",
       "6   [(6.3, 21.0), (9, 24.9)]  [(6.3, 21.7), (9, 25.6)]  \n",
       "12    [(6, 21.3), (8, 24.1)]    [(6, 20.5), (8, 23.3)]  \n",
       "18  [(6.3, 21.0), (9, 24.9)]  [(6.3, 21.7), (9, 25.6)]  "
      ]
     },
     "execution_count": 43,
     "metadata": {},
     "output_type": "execute_result"
    }
   ],
   "source": [
    "cuts"
   ]
  },
  {
   "cell_type": "code",
   "execution_count": null,
   "id": "1503b7e2-aa76-48e4-9fb2-63ad84a73778",
   "metadata": {},
   "outputs": [],
   "source": []
  }
 ],
 "metadata": {
  "kernelspec": {
   "display_name": "astroconda",
   "language": "python",
   "name": "astroconda"
  },
  "language_info": {
   "codemirror_mode": {
    "name": "ipython",
    "version": 3
   },
   "file_extension": ".py",
   "mimetype": "text/x-python",
   "name": "python",
   "nbconvert_exporter": "python",
   "pygments_lexer": "ipython3",
   "version": "3.9.21"
  }
 },
 "nbformat": 4,
 "nbformat_minor": 5
}
