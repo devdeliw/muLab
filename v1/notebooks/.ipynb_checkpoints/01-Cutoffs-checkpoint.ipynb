{
 "cells": [
  {
   "cell_type": "code",
   "execution_count": 2,
   "id": "b79f5672-883c-4b69-9b37-25e7a04069ce",
   "metadata": {},
   "outputs": [],
   "source": [
    "# 01-Cutoffs.ipynb"
   ]
  },
  {
   "cell_type": "code",
   "execution_count": 3,
   "id": "c8b06ba6-5ddf-4ca3-9c01-102f89ee3d6c",
   "metadata": {},
   "outputs": [],
   "source": [
    "import pickle \n",
    "import pandas as pd "
   ]
  },
  {
   "cell_type": "code",
   "execution_count": 3,
   "id": "a91ac727-086f-4145-a24e-49f78222629d",
   "metadata": {},
   "outputs": [],
   "source": [
    "## NRCB1 \n",
    "\n",
    "# F115W - F212N \n",
    "F115W_F212N = { \n",
    "    \"F115W\": [[(6.25, 21.5), (7.25, 22.8)], \n",
    "                [(6.25, 21.2), (7.25, 22.5)]], \n",
    "    \"F212N\": [[(6.25, 15.25), (7.25, 15.625)], \n",
    "                [(6.25, 15.00), (7.25, 15.375)]]\n",
    "}   \n",
    "\n",
    "# F212N vs. F405N \n",
    "F212N_F405N = { \n",
    "    \"F212N\": [[(1.75, 15.25), (1.95, 15.625)], \n",
    "                [(1.75, 15.025), (1.95, 15.4)]], \n",
    "    \"F405N\": [[(1.75, 13.5), (1.9, 13.625)], \n",
    "                [(1.75, 13.375), (1.9, 13.5)]]\n",
    "} \n",
    "\n",
    "NRCB1_CUTOFFS = {\n",
    "    \"F115W_F212N\": F115W_F212N, \n",
    "    \"F212N_F405N\": F212N_F405N, \n",
    "}"
   ]
  },
  {
   "cell_type": "code",
   "execution_count": 4,
   "id": "1cbaf002-4217-41e0-9a20-6eeffaddc138",
   "metadata": {},
   "outputs": [],
   "source": [
    "with open(\"/Users/devaldeliwala/mulab/v1/assets/NRCB1_cutoffs.pkl\", \"wb\") as f: \n",
    "    pickle.dump(NRCB1_CUTOFFS, f)"
   ]
  },
  {
   "cell_type": "code",
   "execution_count": 4,
   "id": "b22e1b97-1ccd-4d38-8cf5-bbae15f84204",
   "metadata": {},
   "outputs": [],
   "source": [
    "# Overall cutoffs \n",
    "with open(\"/Users/devaldeliwala/mulab/v1/assets/red_clump_cuts.pkl\", \"rb\") as f: \n",
    "    red_clump_cuts = pickle.load(f)\n",
    "\n",
    "columns_to_drop = ['Unnamed: 0', 'Unnamed: 0.1', 'catalog1zp', 'catalog2zp']\n",
    "df = red_clump_cuts.loc[[0, 6, 12, 18]].drop(columns=columns_to_drop)\n",
    "\n",
    "with open(\"/Users/devaldeliwala/mulab/assets/red_clump_cuts.pkl\", \"wb\") as f: \n",
    "    pickle.dump(df, f)"
   ]
  }
 ],
 "metadata": {
  "kernelspec": {
   "display_name": "astroconda",
   "language": "python",
   "name": "astroconda"
  },
  "language_info": {
   "codemirror_mode": {
    "name": "ipython",
    "version": 3
   },
   "file_extension": ".py",
   "mimetype": "text/x-python",
   "name": "python",
   "nbconvert_exporter": "python",
   "pygments_lexer": "ipython3",
   "version": "3.9.21"
  }
 },
 "nbformat": 4,
 "nbformat_minor": 5
}
