{
 "cells": [
  {
   "cell_type": "code",
   "execution_count": 1,
   "id": "87ca0895-cc21-4f37-bbd0-e6f583f7f838",
   "metadata": {},
   "outputs": [],
   "source": [
    "# 00-Fritz-slopes.ipynb "
   ]
  },
  {
   "cell_type": "code",
   "execution_count": 2,
   "id": "dedde57d-bb8d-4b82-abf9-5df5e9d4eec5",
   "metadata": {},
   "outputs": [],
   "source": [
    "from pathlib import Path \n",
    "import sys \n",
    "\n",
    "ROOT_PATH = Path().resolve().parent \n",
    "processing_path = ROOT_PATH / \"preprocessing\"\n",
    "sys.path.insert(0, str(processing_path))"
   ]
  },
  {
   "cell_type": "code",
   "execution_count": 3,
   "id": "c5f08503-e306-40c0-9611-6089ce06ed2d",
   "metadata": {},
   "outputs": [],
   "source": [
    "from isochrones import Isochrones "
   ]
  },
  {
   "cell_type": "code",
   "execution_count": null,
   "id": "5d2d7898-aa4a-4fdf-8411-3853401f1b46",
   "metadata": {},
   "outputs": [],
   "source": []
  }
 ],
 "metadata": {
  "kernelspec": {
   "display_name": "astroconda",
   "language": "python",
   "name": "astroconda"
  },
  "language_info": {
   "codemirror_mode": {
    "name": "ipython",
    "version": 3
   },
   "file_extension": ".py",
   "mimetype": "text/x-python",
   "name": "python",
   "nbconvert_exporter": "python",
   "pygments_lexer": "ipython3",
   "version": "3.9.21"
  }
 },
 "nbformat": 4,
 "nbformat_minor": 5
}
